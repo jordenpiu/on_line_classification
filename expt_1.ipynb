{
 "cells": [
  {
   "cell_type": "markdown",
   "metadata": {},
   "source": [
    "Load data"
   ]
  },
  {
   "cell_type": "code",
   "execution_count": 1,
   "metadata": {},
   "outputs": [],
   "source": [
    "import random\n",
    "import torch\n",
    "from torchvision import datasets\n",
    "\n",
    "from torch.utils.data import Dataset, DataLoader\n",
    "from torchvision import datasets, transforms\n",
    "\n",
    "\n",
    "def getMNIST(batch_size:int):\n",
    "\n",
    "    mnist_train = datasets.MNIST(\n",
    "        \"../data\", \n",
    "        train=True, \n",
    "        download=True, \n",
    "        transform=transforms.ToTensor(),\n",
    "    )\n",
    "\n",
    "    mnist_test = datasets.MNIST(\n",
    "        \"../data\", \n",
    "        train=False, \n",
    "        download=True, \n",
    "        transform=transforms.ToTensor(),\n",
    "    )\n",
    "\n",
    "    train_loader = DataLoader(mnist_train, batch_size = batch_size, shuffle=True)\n",
    "    test_loader = DataLoader(mnist_test, batch_size = batch_size, shuffle=False)\n",
    "\n",
    "    return train_loader, test_loader\n",
    "\n",
    "def getFashionMNIST(batch_size:int):\n",
    "\n",
    "    mnist_train = datasets.FashionMNIST(\n",
    "        \"../data\", \n",
    "        train=True, \n",
    "        download=True, \n",
    "        transform=transforms.ToTensor(),\n",
    "    )\n",
    "\n",
    "    mnist_test = datasets.FashionMNIST(\n",
    "        \"../data\", \n",
    "        train=False, \n",
    "        download=True, \n",
    "        transform=transforms.ToTensor(),\n",
    "    )\n",
    "\n",
    "    train_loader = DataLoader(mnist_train, batch_size = batch_size, shuffle=True)\n",
    "    test_loader = DataLoader(mnist_test, batch_size = batch_size, shuffle=False)\n",
    "\n",
    "    return train_loader, test_loader"
   ]
  },
  {
   "cell_type": "code",
   "execution_count": 2,
   "metadata": {},
   "outputs": [],
   "source": [
    "#getModel \n",
    "import torch\n",
    "from torch import nn\n",
    "from torch.nn import functional as F\n",
    "\n",
    "class MLP(nn.Module):\n",
    "    \"\"\"\n",
    "    basic multi-layer perceptron\n",
    "    \"\"\"\n",
    "    def __init__(self, hidden_size=400):\n",
    "        super(MLP, self).__init__()\n",
    "        self.flat = Flatten()\n",
    "        self.fc1 = nn.Linear(28 * 28, hidden_size)\n",
    "        self.fc2 = nn.Linear(hidden_size, hidden_size)\n",
    "        self.fc3 = nn.Linear(hidden_size, hidden_size)\n",
    "        self.fc4 = nn.Linear(hidden_size, 10)\n",
    "\n",
    "    def forward(self, input):\n",
    "        x = self.flat(input)\n",
    "        x = F.relu(self.fc1(x))\n",
    "        x = F.relu(self.fc2(x))\n",
    "        x = F.relu(self.fc3(x))\n",
    "        x = F.relu(self.fc4(x))\n",
    "        return x\n",
    "\n",
    "class Flatten(nn.Module):\n",
    "    def forward(self, x):\n",
    "        return x.view(x.shape[0], -1)\n"
   ]
  },
  {
   "cell_type": "code",
   "execution_count": 3,
   "metadata": {},
   "outputs": [],
   "source": [
    "#gettrainer \n",
    "from copy import deepcopy\n",
    "\n",
    "import torch\n",
    "from torch import nn\n",
    "from torch.nn import functional as F\n",
    "from torch.autograd import Variable\n",
    "from torch import optim\n",
    "import torch.utils.data\n",
    "\n",
    "\n",
    "def var2device(t: torch.Tensor, use_cuda=True, **kwargs):\n",
    "    if torch.cuda.is_available() and use_cuda:\n",
    "        t = t.cuda()\n",
    "    return Variable(t, **kwargs)\n",
    "\n",
    "def one_epoch_baseline(model: nn.Module, data_loader: torch.utils.data.DataLoader, lr = 1e-3):\n",
    "    model.train()\n",
    "    epoch_loss = 0\n",
    "    optimizer = optim.SGD(params=model.parameters(), lr=lr)\n",
    "    for input, target in data_loader:\n",
    "        # no need for the channel dim\n",
    "        # bs,1,h,w -> bs,h,w\n",
    "        input = input.squeeze(1) \n",
    "        input, target = var2device(input), var2device(target)\n",
    "        optimizer.zero_grad()\n",
    "        output = model(input)\n",
    "        loss = F.cross_entropy(output, target)\n",
    "        epoch_loss += loss.item()\n",
    "        loss.backward()\n",
    "        optimizer.step()\n",
    "    return epoch_loss / len(data_loader)\n",
    "\n",
    "def test(model: nn.Module, data_loader: torch.utils.data.DataLoader):\n",
    "    model.eval()\n",
    "    correct = 0\n",
    "    for input, target in data_loader:\n",
    "        input, target = var2device(input), var2device(target)\n",
    "        input = input.squeeze(1)\n",
    "        output = model(input)\n",
    "        correct += (F.softmax(output, dim=1).max(dim=1)[1] == target).data.sum()\n",
    "    return correct / len(data_loader.dataset)\n",
    "\n",
    "def elastic_weight_consolidation_training(\n",
    "    model, \n",
    "    epochs, \n",
    "    train_loader,\n",
    "    test_loader,\n",
    "    test2_loader = None,\n",
    "    use_cuda=True, \n",
    "):\n",
    "    \n",
    "    \"\"\"\n",
    "    This function saves the training curve data consisting\n",
    "    training set loss and validation set accuracy over the\n",
    "    course of the epochs of training using the \n",
    "    elastic_weight_consolidation method\n",
    "    \n",
    "    I set this up such that if you provide 2 test sets,you\n",
    "    can watch the test accuracy change together during training\n",
    "    on train_loder\n",
    "    \"\"\"\n",
    "    \n",
    "    if torch.cuda.is_available() and use_cuda:\n",
    "        model.cuda()\n",
    "        \n",
    "    train_loss, val_acc, val2_acc = [], [], []\n",
    "    \n",
    "    for epoch in tqdm(range(epochs)):\n",
    "\n",
    "        epoch_loss = one_epoch_baseline(model,train_loader)\n",
    "        train_loss.append(epoch_loss)\n",
    "        \n",
    "        acc = test(model,test_loader)\n",
    "        val_acc.append(acc.detach().cpu().numpy())\n",
    "        \n",
    "        if test2_loader is not None:\n",
    "            acc2 = test(model,test2_loader)\n",
    "            val2_acc.append(acc2.detach().cpu().numpy())\n",
    "            \n",
    "    return train_loss, val_acc, val2_acc, model \n"
   ]
  },
  {
   "cell_type": "code",
   "execution_count": 4,
   "metadata": {},
   "outputs": [],
   "source": [
    "import numpy as np\n",
    "from PIL import Image\n",
    "from matplotlib import pyplot as plt\n",
    "from matplotlib.pyplot import imshow\n",
    "\n",
    "%load_ext autoreload\n",
    "%autoreload 2\n",
    "%matplotlib inline"
   ]
  },
  {
   "cell_type": "code",
   "execution_count": 5,
   "metadata": {},
   "outputs": [
    {
     "name": "stderr",
     "output_type": "stream",
     "text": [
      "/home/pkpc/anaconda3/envs/fs_env/lib/python3.7/site-packages/torchvision/datasets/mnist.py:498: UserWarning: The given NumPy array is not writeable, and PyTorch does not support non-writeable tensors. This means you can write to the underlying (supposedly non-writeable) NumPy array using the tensor. You may want to copy the array to protect its data or make it writeable before converting it to a tensor. This type of warning will be suppressed for the rest of this program. (Triggered internally at  /opt/conda/conda-bld/pytorch_1623448224956/work/torch/csrc/utils/tensor_numpy.cpp:180.)\n",
      "  return torch.from_numpy(parsed.astype(m[2], copy=False)).view(*s)\n"
     ]
    }
   ],
   "source": [
    "# task A training and test set\n",
    "train_loader_mnist, test_loader_mnist = getMNIST(batch_size=32)\n",
    "\n",
    "# task B training and test set\n",
    "train_loader_fashion, test_loader_fashion = getFashionMNIST(batch_size=32)\n"
   ]
  },
  {
   "cell_type": "code",
   "execution_count": 6,
   "metadata": {},
   "outputs": [
    {
     "name": "stdout",
     "output_type": "stream",
     "text": [
      "tensor(6)\n",
      "torch.Size([28, 28])\n"
     ]
    },
    {
     "data": {
      "text/plain": [
       "<matplotlib.image.AxesImage at 0x7ff7adfabb50>"
      ]
     },
     "execution_count": 6,
     "metadata": {},
     "output_type": "execute_result"
    },
    {
     "data": {
      "image/png": "[encoded data removed]",
      "text/plain": [
       "<Figure size 432x288 with 1 Axes>"
      ]
     },
     "metadata": {
      "needs_background": "light"
     },
     "output_type": "display_data"
    }
   ],
   "source": [
    "input_image, target_label = next(iter(train_loader_mnist))\n",
    "\n",
    "print(target_label[0])\n",
    "print(input_image[0][0].shape)\n",
    "\n",
    "img = Image.fromarray(input_image[0][0].detach().cpu().numpy()*255)\n",
    "\n",
    "plt.imshow(img)"
   ]
  },
  {
   "cell_type": "code",
   "execution_count": 7,
   "metadata": {},
   "outputs": [
    {
     "name": "stdout",
     "output_type": "stream",
     "text": [
      "Bag\n",
      "torch.Size([28, 28])\n"
     ]
    },
    {
     "data": {
      "text/plain": [
       "<matplotlib.image.AxesImage at 0x7ff7a5a56c10>"
      ]
     },
     "execution_count": 7,
     "metadata": {},
     "output_type": "execute_result"
    },
    {
     "data": {
      "image/png": "[encoded data removed]",
      "text/plain": [
       "<Figure size 432x288 with 1 Axes>"
      ]
     },
     "metadata": {
      "needs_background": "light"
     },
     "output_type": "display_data"
    }
   ],
   "source": [
    "input_image, target_label = next(iter(train_loader_fashion))\n",
    "\n",
    "fashion_key = {\n",
    "    0: \"T-shirt/top\",\n",
    "    1: \"Trouser\",\n",
    "    2: \"Pullover\",\n",
    "    3: \"Dress\",\n",
    "    4: \"Coat\",\n",
    "    5: \"Sandal\",\n",
    "    6: \"Shirt\",\n",
    "    7: \"Sneaker\",\n",
    "    8: \"Bag\",\n",
    "    9: \"Ankle boot\",\n",
    "}\n",
    "\n",
    "print(fashion_key[int(target_label[0].detach().cpu().numpy())])\n",
    "print(input_image[0][0].shape)\n",
    "\n",
    "img = Image.fromarray(input_image[0][0].detach().cpu().numpy()*255)\n",
    "\n",
    "plt.imshow(img)\n"
   ]
  },
  {
   "cell_type": "markdown",
   "metadata": {},
   "source": [
    "traning the model with out EWC on MNIST and then retain on Fashion-MNIST and then test on MNIST"
   ]
  },
  {
   "cell_type": "code",
   "execution_count": 8,
   "metadata": {},
   "outputs": [
    {
     "name": "stdout",
     "output_type": "stream",
     "text": [
      "The autoreload extension is already loaded. To reload it, use:\n",
      "  %reload_ext autoreload\n",
      "you are using PyTorch version  1.9.0\n",
      "you have 1 GPUs\n",
      "cuda:0\n"
     ]
    }
   ],
   "source": [
    "import math\n",
    "import random\n",
    "\n",
    "import numpy as np\n",
    "import torch\n",
    "from matplotlib import pyplot as plt\n",
    "from matplotlib.pyplot import imshow\n",
    "from tqdm.notebook import tqdm\n",
    "\n",
    "#from contlearn.getmodels import MLP\n",
    "#from contlearn.gettrainer import one_epoch_baseline, test, var2device\n",
    "\n",
    "%load_ext autoreload\n",
    "%autoreload 2\n",
    "%matplotlib inline\n",
    "\n",
    "print('you are using PyTorch version ',torch.__version__)\n",
    "\n",
    "if torch.cuda.is_available():\n",
    "    use_cuda = True\n",
    "    print(\"you have\", torch.cuda.device_count(), \"GPUs\")\n",
    "    device = torch.device(\"cuda:0\")\n",
    "    print(device)\n",
    "else:\n",
    "    use_cuda = False\n",
    "    print('no GPUs detected')\n",
    "    device = torch.device(\"cpu\")"
   ]
  },
  {
   "cell_type": "code",
   "execution_count": 9,
   "metadata": {},
   "outputs": [
    {
     "name": "stdout",
     "output_type": "stream",
     "text": [
      "torch.Size([32, 28, 28])\n",
      "torch.Size([32, 10])\n"
     ]
    }
   ],
   "source": [
    "# initialize a new model\n",
    "\n",
    "model = MLP(hidden_size=256)\n",
    "\n",
    "if torch.cuda.is_available() and use_cuda:\n",
    "    model.cuda()\n",
    "    \n",
    "# push an image through it\n",
    "\n",
    "input_image, target_label = next(iter(train_loader_fashion))\n",
    "\n",
    "input_image = var2device(input_image).squeeze(1)\n",
    "\n",
    "print(input_image.shape)\n",
    "\n",
    "output = model(input_image)\n",
    "\n",
    "print(output.shape)"
   ]
  },
  {
   "cell_type": "code",
   "execution_count": 10,
   "metadata": {},
   "outputs": [],
   "source": [
    "def baseline_training(\n",
    "    model, \n",
    "    epochs, \n",
    "    train_loader,\n",
    "    test_loader,\n",
    "    test2_loader = None,\n",
    "    use_cuda=True, \n",
    "):\n",
    "    \n",
    "    \"\"\"\n",
    "    This function saves the training curve data consisting\n",
    "    training set loss and validation set accuracy over the\n",
    "    course of the epochs of training.\n",
    "    \n",
    "    I set this up such that if you provide 2 test sets,you\n",
    "    can watch the test accuracy change together during training\n",
    "    on train_loder\n",
    "    \"\"\"\n",
    "    \n",
    "    if torch.cuda.is_available() and use_cuda:\n",
    "        model.cuda()\n",
    "        \n",
    "    train_loss, val_acc, val2_acc = [], [], []\n",
    "    \n",
    "    for epoch in tqdm(range(epochs)):\n",
    "\n",
    "        epoch_loss = one_epoch_baseline(model,train_loader)\n",
    "        train_loss.append(epoch_loss)\n",
    "        \n",
    "        acc = test(model,test_loader)\n",
    "        val_acc.append(acc.detach().cpu().numpy())\n",
    "        \n",
    "        if test2_loader is not None:\n",
    "            acc2 = test(model,test2_loader)\n",
    "            val2_acc.append(acc2.detach().cpu().numpy())\n",
    "            \n",
    "    return train_loss, val_acc, val2_acc, model"
   ]
  },
  {
   "cell_type": "code",
   "execution_count": 11,
   "metadata": {},
   "outputs": [
    {
     "data": {
      "application/vnd.jupyter.widget-view+json": {
       "model_id": "5557314e7a2f4d9b870d14fd627cf1b1",
       "version_major": 2,
       "version_minor": 0
      },
      "text/plain": [
       "  0%|          | 0/25 [00:00<?, ?it/s]"
      ]
     },
     "metadata": {},
     "output_type": "display_data"
    },
    {
     "ename": "KeyboardInterrupt",
     "evalue": "",
     "output_type": "error",
     "traceback": [
      "\u001b[0;31m---------------------------------------------------------------------------\u001b[0m",
      "\u001b[0;31mKeyboardInterrupt\u001b[0m                         Traceback (most recent call last)",
      "\u001b[0;32m/tmp/ipykernel_2816/1140113670.py\u001b[0m in \u001b[0;36m<module>\u001b[0;34m\u001b[0m\n\u001b[1;32m     10\u001b[0m     \u001b[0mepochs\u001b[0m \u001b[0;34m=\u001b[0m \u001b[0;36m25\u001b[0m\u001b[0;34m,\u001b[0m\u001b[0;34m\u001b[0m\u001b[0;34m\u001b[0m\u001b[0m\n\u001b[1;32m     11\u001b[0m     \u001b[0mtrain_loader\u001b[0m \u001b[0;34m=\u001b[0m \u001b[0mtrain_loader_mnist\u001b[0m\u001b[0;34m,\u001b[0m\u001b[0;34m\u001b[0m\u001b[0;34m\u001b[0m\u001b[0m\n\u001b[0;32m---> 12\u001b[0;31m     \u001b[0mtest_loader\u001b[0m \u001b[0;34m=\u001b[0m \u001b[0mtest_loader_mnist\u001b[0m\u001b[0;34m,\u001b[0m\u001b[0;34m\u001b[0m\u001b[0;34m\u001b[0m\u001b[0m\n\u001b[0m\u001b[1;32m     13\u001b[0m )\n\u001b[1;32m     14\u001b[0m \u001b[0;34m\u001b[0m\u001b[0m\n",
      "\u001b[0;32m/tmp/ipykernel_2816/1177697145.py\u001b[0m in \u001b[0;36mbaseline_training\u001b[0;34m(model, epochs, train_loader, test_loader, test2_loader, use_cuda)\u001b[0m\n\u001b[1;32m     25\u001b[0m     \u001b[0;32mfor\u001b[0m \u001b[0mepoch\u001b[0m \u001b[0;32min\u001b[0m \u001b[0mtqdm\u001b[0m\u001b[0;34m(\u001b[0m\u001b[0mrange\u001b[0m\u001b[0;34m(\u001b[0m\u001b[0mepochs\u001b[0m\u001b[0;34m)\u001b[0m\u001b[0;34m)\u001b[0m\u001b[0;34m:\u001b[0m\u001b[0;34m\u001b[0m\u001b[0;34m\u001b[0m\u001b[0m\n\u001b[1;32m     26\u001b[0m \u001b[0;34m\u001b[0m\u001b[0m\n\u001b[0;32m---> 27\u001b[0;31m         \u001b[0mepoch_loss\u001b[0m \u001b[0;34m=\u001b[0m \u001b[0mone_epoch_baseline\u001b[0m\u001b[0;34m(\u001b[0m\u001b[0mmodel\u001b[0m\u001b[0;34m,\u001b[0m\u001b[0mtrain_loader\u001b[0m\u001b[0;34m)\u001b[0m\u001b[0;34m\u001b[0m\u001b[0;34m\u001b[0m\u001b[0m\n\u001b[0m\u001b[1;32m     28\u001b[0m         \u001b[0mtrain_loss\u001b[0m\u001b[0;34m.\u001b[0m\u001b[0mappend\u001b[0m\u001b[0;34m(\u001b[0m\u001b[0mepoch_loss\u001b[0m\u001b[0;34m)\u001b[0m\u001b[0;34m\u001b[0m\u001b[0;34m\u001b[0m\u001b[0m\n\u001b[1;32m     29\u001b[0m \u001b[0;34m\u001b[0m\u001b[0m\n",
      "\u001b[0;32m/tmp/ipykernel_2816/3272769253.py\u001b[0m in \u001b[0;36mone_epoch_baseline\u001b[0;34m(model, data_loader, lr)\u001b[0m\n\u001b[1;32m     19\u001b[0m     \u001b[0mepoch_loss\u001b[0m \u001b[0;34m=\u001b[0m \u001b[0;36m0\u001b[0m\u001b[0;34m\u001b[0m\u001b[0;34m\u001b[0m\u001b[0m\n\u001b[1;32m     20\u001b[0m     \u001b[0moptimizer\u001b[0m \u001b[0;34m=\u001b[0m \u001b[0moptim\u001b[0m\u001b[0;34m.\u001b[0m\u001b[0mSGD\u001b[0m\u001b[0;34m(\u001b[0m\u001b[0mparams\u001b[0m\u001b[0;34m=\u001b[0m\u001b[0mmodel\u001b[0m\u001b[0;34m.\u001b[0m\u001b[0mparameters\u001b[0m\u001b[0;34m(\u001b[0m\u001b[0;34m)\u001b[0m\u001b[0;34m,\u001b[0m \u001b[0mlr\u001b[0m\u001b[0;34m=\u001b[0m\u001b[0mlr\u001b[0m\u001b[0;34m)\u001b[0m\u001b[0;34m\u001b[0m\u001b[0;34m\u001b[0m\u001b[0m\n\u001b[0;32m---> 21\u001b[0;31m     \u001b[0;32mfor\u001b[0m \u001b[0minput\u001b[0m\u001b[0;34m,\u001b[0m \u001b[0mtarget\u001b[0m \u001b[0;32min\u001b[0m \u001b[0mdata_loader\u001b[0m\u001b[0;34m:\u001b[0m\u001b[0;34m\u001b[0m\u001b[0;34m\u001b[0m\u001b[0m\n\u001b[0m\u001b[1;32m     22\u001b[0m         \u001b[0;31m# no need for the channel dim\u001b[0m\u001b[0;34m\u001b[0m\u001b[0;34m\u001b[0m\u001b[0;34m\u001b[0m\u001b[0m\n\u001b[1;32m     23\u001b[0m         \u001b[0;31m# bs,1,h,w -> bs,h,w\u001b[0m\u001b[0;34m\u001b[0m\u001b[0;34m\u001b[0m\u001b[0;34m\u001b[0m\u001b[0m\n",
      "\u001b[0;32m~/anaconda3/envs/fs_env/lib/python3.7/site-packages/torch/utils/data/dataloader.py\u001b[0m in \u001b[0;36m__next__\u001b[0;34m(self)\u001b[0m\n\u001b[1;32m    519\u001b[0m             \u001b[0;32mif\u001b[0m \u001b[0mself\u001b[0m\u001b[0;34m.\u001b[0m\u001b[0m_sampler_iter\u001b[0m \u001b[0;32mis\u001b[0m \u001b[0;32mNone\u001b[0m\u001b[0;34m:\u001b[0m\u001b[0;34m\u001b[0m\u001b[0;34m\u001b[0m\u001b[0m\n\u001b[1;32m    520\u001b[0m                 \u001b[0mself\u001b[0m\u001b[0;34m.\u001b[0m\u001b[0m_reset\u001b[0m\u001b[0;34m(\u001b[0m\u001b[0;34m)\u001b[0m\u001b[0;34m\u001b[0m\u001b[0;34m\u001b[0m\u001b[0m\n\u001b[0;32m--> 521\u001b[0;31m             \u001b[0mdata\u001b[0m \u001b[0;34m=\u001b[0m \u001b[0mself\u001b[0m\u001b[0;34m.\u001b[0m\u001b[0m_next_data\u001b[0m\u001b[0;34m(\u001b[0m\u001b[0;34m)\u001b[0m\u001b[0;34m\u001b[0m\u001b[0;34m\u001b[0m\u001b[0m\n\u001b[0m\u001b[1;32m    522\u001b[0m             \u001b[0mself\u001b[0m\u001b[0;34m.\u001b[0m\u001b[0m_num_yielded\u001b[0m \u001b[0;34m+=\u001b[0m \u001b[0;36m1\u001b[0m\u001b[0;34m\u001b[0m\u001b[0;34m\u001b[0m\u001b[0m\n\u001b[1;32m    523\u001b[0m             \u001b[0;32mif\u001b[0m \u001b[0mself\u001b[0m\u001b[0;34m.\u001b[0m\u001b[0m_dataset_kind\u001b[0m \u001b[0;34m==\u001b[0m \u001b[0m_DatasetKind\u001b[0m\u001b[0;34m.\u001b[0m\u001b[0mIterable\u001b[0m \u001b[0;32mand\u001b[0m\u001b[0;31m \u001b[0m\u001b[0;31m\\\u001b[0m\u001b[0;34m\u001b[0m\u001b[0;34m\u001b[0m\u001b[0m\n",
      "\u001b[0;32m~/anaconda3/envs/fs_env/lib/python3.7/site-packages/torch/utils/data/dataloader.py\u001b[0m in \u001b[0;36m_next_data\u001b[0;34m(self)\u001b[0m\n\u001b[1;32m    559\u001b[0m     \u001b[0;32mdef\u001b[0m \u001b[0m_next_data\u001b[0m\u001b[0;34m(\u001b[0m\u001b[0mself\u001b[0m\u001b[0;34m)\u001b[0m\u001b[0;34m:\u001b[0m\u001b[0;34m\u001b[0m\u001b[0;34m\u001b[0m\u001b[0m\n\u001b[1;32m    560\u001b[0m         \u001b[0mindex\u001b[0m \u001b[0;34m=\u001b[0m \u001b[0mself\u001b[0m\u001b[0;34m.\u001b[0m\u001b[0m_next_index\u001b[0m\u001b[0;34m(\u001b[0m\u001b[0;34m)\u001b[0m  \u001b[0;31m# may raise StopIteration\u001b[0m\u001b[0;34m\u001b[0m\u001b[0;34m\u001b[0m\u001b[0m\n\u001b[0;32m--> 561\u001b[0;31m         \u001b[0mdata\u001b[0m \u001b[0;34m=\u001b[0m \u001b[0mself\u001b[0m\u001b[0;34m.\u001b[0m\u001b[0m_dataset_fetcher\u001b[0m\u001b[0;34m.\u001b[0m\u001b[0mfetch\u001b[0m\u001b[0;34m(\u001b[0m\u001b[0mindex\u001b[0m\u001b[0;34m)\u001b[0m  \u001b[0;31m# may raise StopIteration\u001b[0m\u001b[0;34m\u001b[0m\u001b[0;34m\u001b[0m\u001b[0m\n\u001b[0m\u001b[1;32m    562\u001b[0m         \u001b[0;32mif\u001b[0m \u001b[0mself\u001b[0m\u001b[0;34m.\u001b[0m\u001b[0m_pin_memory\u001b[0m\u001b[0;34m:\u001b[0m\u001b[0;34m\u001b[0m\u001b[0;34m\u001b[0m\u001b[0m\n\u001b[1;32m    563\u001b[0m             \u001b[0mdata\u001b[0m \u001b[0;34m=\u001b[0m \u001b[0m_utils\u001b[0m\u001b[0;34m.\u001b[0m\u001b[0mpin_memory\u001b[0m\u001b[0;34m.\u001b[0m\u001b[0mpin_memory\u001b[0m\u001b[0;34m(\u001b[0m\u001b[0mdata\u001b[0m\u001b[0;34m)\u001b[0m\u001b[0;34m\u001b[0m\u001b[0;34m\u001b[0m\u001b[0m\n",
      "\u001b[0;32m~/anaconda3/envs/fs_env/lib/python3.7/site-packages/torch/utils/data/_utils/fetch.py\u001b[0m in \u001b[0;36mfetch\u001b[0;34m(self, possibly_batched_index)\u001b[0m\n\u001b[1;32m     42\u001b[0m     \u001b[0;32mdef\u001b[0m \u001b[0mfetch\u001b[0m\u001b[0;34m(\u001b[0m\u001b[0mself\u001b[0m\u001b[0;34m,\u001b[0m \u001b[0mpossibly_batched_index\u001b[0m\u001b[0;34m)\u001b[0m\u001b[0;34m:\u001b[0m\u001b[0;34m\u001b[0m\u001b[0;34m\u001b[0m\u001b[0m\n\u001b[1;32m     43\u001b[0m         \u001b[0;32mif\u001b[0m \u001b[0mself\u001b[0m\u001b[0;34m.\u001b[0m\u001b[0mauto_collation\u001b[0m\u001b[0;34m:\u001b[0m\u001b[0;34m\u001b[0m\u001b[0;34m\u001b[0m\u001b[0m\n\u001b[0;32m---> 44\u001b[0;31m             \u001b[0mdata\u001b[0m \u001b[0;34m=\u001b[0m \u001b[0;34m[\u001b[0m\u001b[0mself\u001b[0m\u001b[0;34m.\u001b[0m\u001b[0mdataset\u001b[0m\u001b[0;34m[\u001b[0m\u001b[0midx\u001b[0m\u001b[0;34m]\u001b[0m \u001b[0;32mfor\u001b[0m \u001b[0midx\u001b[0m \u001b[0;32min\u001b[0m \u001b[0mpossibly_batched_index\u001b[0m\u001b[0;34m]\u001b[0m\u001b[0;34m\u001b[0m\u001b[0;34m\u001b[0m\u001b[0m\n\u001b[0m\u001b[1;32m     45\u001b[0m         \u001b[0;32melse\u001b[0m\u001b[0;34m:\u001b[0m\u001b[0;34m\u001b[0m\u001b[0;34m\u001b[0m\u001b[0m\n\u001b[1;32m     46\u001b[0m             \u001b[0mdata\u001b[0m \u001b[0;34m=\u001b[0m \u001b[0mself\u001b[0m\u001b[0;34m.\u001b[0m\u001b[0mdataset\u001b[0m\u001b[0;34m[\u001b[0m\u001b[0mpossibly_batched_index\u001b[0m\u001b[0;34m]\u001b[0m\u001b[0;34m\u001b[0m\u001b[0;34m\u001b[0m\u001b[0m\n",
      "\u001b[0;32m~/anaconda3/envs/fs_env/lib/python3.7/site-packages/torch/utils/data/_utils/fetch.py\u001b[0m in \u001b[0;36m<listcomp>\u001b[0;34m(.0)\u001b[0m\n\u001b[1;32m     42\u001b[0m     \u001b[0;32mdef\u001b[0m \u001b[0mfetch\u001b[0m\u001b[0;34m(\u001b[0m\u001b[0mself\u001b[0m\u001b[0;34m,\u001b[0m \u001b[0mpossibly_batched_index\u001b[0m\u001b[0;34m)\u001b[0m\u001b[0;34m:\u001b[0m\u001b[0;34m\u001b[0m\u001b[0;34m\u001b[0m\u001b[0m\n\u001b[1;32m     43\u001b[0m         \u001b[0;32mif\u001b[0m \u001b[0mself\u001b[0m\u001b[0;34m.\u001b[0m\u001b[0mauto_collation\u001b[0m\u001b[0;34m:\u001b[0m\u001b[0;34m\u001b[0m\u001b[0;34m\u001b[0m\u001b[0m\n\u001b[0;32m---> 44\u001b[0;31m             \u001b[0mdata\u001b[0m \u001b[0;34m=\u001b[0m \u001b[0;34m[\u001b[0m\u001b[0mself\u001b[0m\u001b[0;34m.\u001b[0m\u001b[0mdataset\u001b[0m\u001b[0;34m[\u001b[0m\u001b[0midx\u001b[0m\u001b[0;34m]\u001b[0m \u001b[0;32mfor\u001b[0m \u001b[0midx\u001b[0m \u001b[0;32min\u001b[0m \u001b[0mpossibly_batched_index\u001b[0m\u001b[0;34m]\u001b[0m\u001b[0;34m\u001b[0m\u001b[0;34m\u001b[0m\u001b[0m\n\u001b[0m\u001b[1;32m     45\u001b[0m         \u001b[0;32melse\u001b[0m\u001b[0;34m:\u001b[0m\u001b[0;34m\u001b[0m\u001b[0;34m\u001b[0m\u001b[0m\n\u001b[1;32m     46\u001b[0m             \u001b[0mdata\u001b[0m \u001b[0;34m=\u001b[0m \u001b[0mself\u001b[0m\u001b[0;34m.\u001b[0m\u001b[0mdataset\u001b[0m\u001b[0;34m[\u001b[0m\u001b[0mpossibly_batched_index\u001b[0m\u001b[0;34m]\u001b[0m\u001b[0;34m\u001b[0m\u001b[0;34m\u001b[0m\u001b[0m\n",
      "\u001b[0;32m~/anaconda3/envs/fs_env/lib/python3.7/site-packages/torchvision/datasets/mnist.py\u001b[0m in \u001b[0;36m__getitem__\u001b[0;34m(self, index)\u001b[0m\n\u001b[1;32m    125\u001b[0m             \u001b[0mtuple\u001b[0m\u001b[0;34m:\u001b[0m \u001b[0;34m(\u001b[0m\u001b[0mimage\u001b[0m\u001b[0;34m,\u001b[0m \u001b[0mtarget\u001b[0m\u001b[0;34m)\u001b[0m \u001b[0mwhere\u001b[0m \u001b[0mtarget\u001b[0m \u001b[0;32mis\u001b[0m \u001b[0mindex\u001b[0m \u001b[0mof\u001b[0m \u001b[0mthe\u001b[0m \u001b[0mtarget\u001b[0m \u001b[0;32mclass\u001b[0m\u001b[0;34m.\u001b[0m\u001b[0;34m\u001b[0m\u001b[0;34m\u001b[0m\u001b[0m\n\u001b[1;32m    126\u001b[0m         \"\"\"\n\u001b[0;32m--> 127\u001b[0;31m         \u001b[0mimg\u001b[0m\u001b[0;34m,\u001b[0m \u001b[0mtarget\u001b[0m \u001b[0;34m=\u001b[0m \u001b[0mself\u001b[0m\u001b[0;34m.\u001b[0m\u001b[0mdata\u001b[0m\u001b[0;34m[\u001b[0m\u001b[0mindex\u001b[0m\u001b[0;34m]\u001b[0m\u001b[0;34m,\u001b[0m \u001b[0mint\u001b[0m\u001b[0;34m(\u001b[0m\u001b[0mself\u001b[0m\u001b[0;34m.\u001b[0m\u001b[0mtargets\u001b[0m\u001b[0;34m[\u001b[0m\u001b[0mindex\u001b[0m\u001b[0;34m]\u001b[0m\u001b[0;34m)\u001b[0m\u001b[0;34m\u001b[0m\u001b[0;34m\u001b[0m\u001b[0m\n\u001b[0m\u001b[1;32m    128\u001b[0m \u001b[0;34m\u001b[0m\u001b[0m\n\u001b[1;32m    129\u001b[0m         \u001b[0;31m# doing this so that it is consistent with all other datasets\u001b[0m\u001b[0;34m\u001b[0m\u001b[0;34m\u001b[0m\u001b[0;34m\u001b[0m\u001b[0m\n",
      "\u001b[0;31mKeyboardInterrupt\u001b[0m: "
     ]
    }
   ],
   "source": [
    "# set seeds for reproducibility and train the model using the training loop called\n",
    "# baseline_training\n",
    "#import IProgress \n",
    "torch.manual_seed(0)\n",
    "np.random.seed(0)\n",
    "random.seed(0)\n",
    "\n",
    "train_loss, val_acc, val2_acc,  model = baseline_training(\n",
    "    model,\n",
    "    epochs = 25,\n",
    "    train_loader = train_loader_mnist,\n",
    "    test_loader = test_loader_mnist,\n",
    ")\n",
    "\n",
    "# save the trained model\n",
    "model = model.cpu()\n",
    "torch.save(model, \"files/basemodel.pth\")"
   ]
  },
  {
   "cell_type": "code",
   "execution_count": 19,
   "metadata": {},
   "outputs": [
    {
     "data": {
      "image/png": "[encoded data removed]",
      "text/plain": [
       "<Figure size 432x288 with 1 Axes>"
      ]
     },
     "metadata": {
      "needs_background": "light"
     },
     "output_type": "display_data"
    }
   ],
   "source": [
    "plt.figure()\n",
    "plt.xlabel('epochs', fontsize=25)\n",
    "plt.ylabel('validation accuracy', fontsize=25)\n",
    "plt.plot(val_acc, label='mnist')\n",
    "plt.legend()\n",
    "plt.show()"
   ]
  },
  {
   "cell_type": "code",
   "execution_count": 12,
   "metadata": {},
   "outputs": [
    {
     "name": "stdout",
     "output_type": "stream",
     "text": [
      "mnist accuracy tensor(0.8508, device='cuda:0')\n",
      "fashion accuracy tensor(0.1556, device='cuda:0')\n"
     ]
    }
   ],
   "source": [
    "# you can use this to load the model instead of training it from scratch like above \n",
    "\n",
    "model = torch.load(\"files/basemodel.pth\")\n",
    "\n",
    "if torch.cuda.is_available() and use_cuda:\n",
    "    model.cuda()\n",
    "    \n",
    "# tensor(0.8238, device='cuda:0') means that the test set accuracy was 82.4%\n",
    "# compared to a baseline accuracy of 10% if the model is choosing randomly\n",
    "print('mnist accuracy', test(model,test_loader_mnist))\n",
    "print('fashion accuracy', test(model,test_loader_fashion))"
   ]
  },
  {
   "cell_type": "code",
   "execution_count": 13,
   "metadata": {},
   "outputs": [
    {
     "data": {
      "application/vnd.jupyter.widget-view+json": {
       "model_id": "cdd7b98a0ac94ccf893f417d2c9c4e02",
       "version_major": 2,
       "version_minor": 0
      },
      "text/plain": [
       "  0%|          | 0/25 [00:00<?, ?it/s]"
      ]
     },
     "metadata": {},
     "output_type": "display_data"
    }
   ],
   "source": [
    "torch.manual_seed(0)\n",
    "np.random.seed(0)\n",
    "random.seed(0)\n",
    "\n",
    "train_loss, val_acc, val2_acc,  model = baseline_training(\n",
    "    model,\n",
    "    epochs = 25,\n",
    "    train_loader = train_loader_fashion,\n",
    "    test_loader = test_loader_fashion,\n",
    "    test2_loader = test_loader_mnist,\n",
    ")\n",
    "# save the trained model\n",
    "model = model.cpu()\n",
    "torch.save(model, \"files/basemodel_train_on_fashion.pth\")"
   ]
  },
  {
   "cell_type": "code",
   "execution_count": 14,
   "metadata": {},
   "outputs": [
    {
     "name": "stdout",
     "output_type": "stream",
     "text": [
      "mnist accuracy tensor(0.2795, device='cuda:0')\n",
      "fashion accuracy tensor(0.5377, device='cuda:0')\n"
     ]
    }
   ],
   "source": [
    "\n",
    "# you can use this to load the model instead of training it from scratch like above \n",
    "\n",
    "model = torch.load(\"files/basemodel_train_on_fashion.pth\")\n",
    "\n",
    "if torch.cuda.is_available() and use_cuda:\n",
    "    model.cuda()\n",
    "    \n",
    "# tensor(0.8238, device='cuda:0') means that the test set accuracy was 82.4%\n",
    "# compared to a baseline accuracy of 10% if the model is choosing randomly\n",
    "print('mnist accuracy', test(model,test_loader_mnist))\n",
    "print('fashion accuracy', test(model,test_loader_fashion))"
   ]
  },
  {
   "cell_type": "code",
   "execution_count": 15,
   "metadata": {},
   "outputs": [
    {
     "data": {
      "image/png": "[encoded data removed]",
      "text/plain": [
       "<Figure size 432x288 with 1 Axes>"
      ]
     },
     "metadata": {
      "needs_background": "light"
     },
     "output_type": "display_data"
    }
   ],
   "source": [
    "plt.figure()\n",
    "plt.xlabel('epochs', fontsize=25)\n",
    "plt.ylabel('validation accuracy', fontsize=25)\n",
    "plt.plot(val_acc, label='fashion')\n",
    "plt.plot(val2_acc, label='mnist')\n",
    "plt.legend()\n",
    "plt.show()"
   ]
  },
  {
   "cell_type": "markdown",
   "metadata": {},
   "source": [
    "EWC apply "
   ]
  },
  {
   "cell_type": "code",
   "execution_count": 16,
   "metadata": {},
   "outputs": [
    {
     "name": "stdout",
     "output_type": "stream",
     "text": [
      "num_samples 512\n"
     ]
    }
   ],
   "source": [
    "# instead of revisiting every old MNIST example to build our Fisher Information Matrix\n",
    "# use num_samples of them to calculate a approximate of the matrix\n",
    "\n",
    "torch.manual_seed(0)\n",
    "np.random.seed(0)\n",
    "random.seed(0)\n",
    "\n",
    "num_batches = 16\n",
    "\n",
    "old_tasks = []\n",
    "\n",
    "for sample in range(num_batches):\n",
    "    input_batch, target_batch = next(iter(train_loader_mnist))\n",
    "    for image in input_batch:\n",
    "        old_tasks.append(image)\n",
    "    \n",
    "print(\"num_samples\", len(old_tasks))"
   ]
  },
  {
   "cell_type": "code",
   "execution_count": 17,
   "metadata": {},
   "outputs": [
    {
     "name": "stdout",
     "output_type": "stream",
     "text": [
      "The autoreload extension is already loaded. To reload it, use:\n",
      "  %reload_ext autoreload\n",
      "accuracy on mnist test set 0.8507999777793884\n"
     ]
    }
   ],
   "source": [
    "from copy import deepcopy\n",
    "\n",
    "import torch\n",
    "from torch import nn\n",
    "from torch.nn import functional as F\n",
    "from torch.autograd import Variable\n",
    "from torch import optim\n",
    "import torch.utils.data\n",
    "\n",
    "\n",
    "%load_ext autoreload\n",
    "%autoreload 2\n",
    "%matplotlib inline\n",
    "\n",
    "\n",
    "# Uncomment one of the two below lines of code that instantiates a model\n",
    "### birth a new randomly initiated model ###\n",
    "\n",
    "# model = MLP(hidden_size=256)\n",
    "\n",
    "### load a model previously trained on one task, task A ###\n",
    "\n",
    "model = torch.load(\"files/basemodel.pth\")\n",
    "\n",
    "#####\n",
    "\n",
    "\n",
    "if torch.cuda.is_available() and use_cuda:\n",
    "    model.cuda()    \n",
    "# tensor(0.8238, device='cuda:0') means that the test set accuracy was 82.4%\n",
    "# compared to a baseline accuracy of 10% if the model is choosing randomly\n",
    "acc = test(model,test_loader_mnist)\n",
    "print(\"accuracy on mnist test set\", acc.item())\n"
   ]
  },
  {
   "cell_type": "code",
   "execution_count": 18,
   "metadata": {},
   "outputs": [],
   "source": [
    "class EWC(object):\n",
    "    \n",
    "    \"\"\"\n",
    "    Class to calculate the Fisher Information Matrix\n",
    "    used in the Elastic Weight Consolidation portion\n",
    "    of the loss function\n",
    "    \"\"\"\n",
    "    \n",
    "    def __init__(self, model: nn.Module, dataset: list):\n",
    "\n",
    "        self.model = model #pretrained model\n",
    "        self.dataset = dataset #samples from the old task or tasks\n",
    "        \n",
    "        # n is the string name of the parameter matrix p, aka theta, aka weights\n",
    "        # in self.params we reference all of those weights that are open to\n",
    "        # being updated by the gradient\n",
    "        self.params = {n: p for n, p in self.model.named_parameters() if p.requires_grad}\n",
    "        # make a copy of the old weights, ie theta_A,star, ie 𝜃∗A, in the loss equation\n",
    "        # we need this to calculate (𝜃 - 𝜃∗A)^2 because self.params will be changing \n",
    "        # upon every backward pass and parameter update by the optimizer\n",
    "        self._means = {}\n",
    "        for n, p in deepcopy(self.params).items():\n",
    "            self._means[n] = var2device(p.data)\n",
    "        \n",
    "        # calculate the fisher information matrix \n",
    "        self._precision_matrices = self._diag_fisher()\n",
    "\n",
    "    def _diag_fisher(self):\n",
    "        \n",
    "        # save a copy of the zero'd out version of\n",
    "        # each layer's parameters of the same shape\n",
    "        # to precision_matrices[n]\n",
    "        precision_matrices = {}\n",
    "        for n, p in deepcopy(self.params).items():\n",
    "            p.data.zero_()\n",
    "            precision_matrices[n] = var2device(p.data)\n",
    "\n",
    "        # we need the model to calculate the gradient but\n",
    "        # we have no intention in this step to actually update the model\n",
    "        # that will have to wait for the combining of this EWC loss term\n",
    "        # with the new task's loss term\n",
    "        self.model.eval()\n",
    "        for input in self.dataset:\n",
    "            self.model.zero_grad()\n",
    "            input = input.squeeze(1)\n",
    "            input = var2device(input)\n",
    "            output = self.model(input).view(1, -1)\n",
    "            #print(output.shape)\n",
    "            label = output.max(1)[1].view(-1)\n",
    "            #print(label.shape)\n",
    "            # calculate loss and backprop\n",
    "            loss = F.nll_loss(F.log_softmax(output, dim=1), label)\n",
    "            loss.backward()\n",
    "\n",
    "            for n, p in self.model.named_parameters():\n",
    "                precision_matrices[n].data += p.grad.data ** 2 / len(self.dataset)\n",
    "\n",
    "        precision_matrices = {n: p for n, p in precision_matrices.items()}\n",
    "        return precision_matrices\n",
    "\n",
    "    def penalty(self, model: nn.Module):\n",
    "        loss = 0\n",
    "        for n, p in model.named_parameters():\n",
    "            _loss = self._precision_matrices[n] * (p - self._means[n]) ** 2\n",
    "            loss += _loss.sum()\n",
    "        return loss\n",
    "    \n",
    "# place the model pretrained on mnist, but not fashion-mnist, along with some mnist examples\n",
    "# into the Elastic Weight Consolidation object to perform EWC related tasks like calculating the\n",
    "# Fisher Matrix\n",
    "ewc = EWC(model, old_tasks)\n"
   ]
  },
  {
   "cell_type": "code",
   "execution_count": 19,
   "metadata": {},
   "outputs": [
    {
     "name": "stdout",
     "output_type": "stream",
     "text": [
      "name of this layer's weights: fc1.weight\n",
      "shape of this matrix W torch.Size([256, 784])\n",
      "norm of the matrix 0.0\n"
     ]
    }
   ],
   "source": [
    "precision_matrices = {}\n",
    "for n, p in deepcopy(ewc.params).items():\n",
    "    \n",
    "    print(\"name of this layer's weights:\", n)\n",
    "    p.data.zero_()\n",
    "    precision_matrices[n] = var2device(p.data)\n",
    "    print(\"shape of this matrix W\", precision_matrices[n].shape)\n",
    "    #print(precision_matrices[n])\n",
    "    print(\"norm of the matrix\",torch.norm(precision_matrices[n]).item())\n",
    "    break\n"
   ]
  },
  {
   "cell_type": "code",
   "execution_count": 20,
   "metadata": {},
   "outputs": [
    {
     "name": "stdout",
     "output_type": "stream",
     "text": [
      "input.shape torch.Size([1, 28, 28])\n",
      "[0.0, 0.0, 1.9054186, 0.0, 2.121875, 0.0, 6.532875, 0.0, 0.0, 0.0]\n",
      "predicted number tensor([6], device='cuda:0')\n",
      "loss 0.031601645052433014\n"
     ]
    },
    {
     "data": {
      "image/png": "[encoded data removed]",
      "text/plain": [
       "<Figure size 432x288 with 1 Axes>"
      ]
     },
     "metadata": {
      "needs_background": "light"
     },
     "output_type": "display_data"
    }
   ],
   "source": [
    "ewc.model.eval()\n",
    "for input in ewc.dataset:\n",
    "    ewc.model.zero_grad()\n",
    "    # no need for the channel dim, these are greyscale, not color rgb images\n",
    "    # bs,1,h,w -> bs,h,w\n",
    "    input = input.squeeze(1)\n",
    "    input = var2device(input)\n",
    "    output = ewc.model(input).view(1, -1)\n",
    "    label = output.max(1)[1].view(-1)\n",
    "    loss = F.nll_loss(F.log_softmax(output, dim=1), label)\n",
    "    loss.backward()    \n",
    "    break\n",
    "\n",
    "print(\"input.shape\", input.shape)\n",
    "img = Image.fromarray(input[0].detach().cpu().numpy()*255)\n",
    "plt.imshow(img)\n",
    "\n",
    "print(list(output.detach().cpu().numpy()[0]))\n",
    "print(\"predicted number\",label)\n",
    "print(\"loss\",loss.item())\n"
   ]
  },
  {
   "cell_type": "code",
   "execution_count": 21,
   "metadata": {},
   "outputs": [
    {
     "name": "stdout",
     "output_type": "stream",
     "text": [
      "name of this layer's weights: fc1.weight\n",
      "shape of p.grad.data torch.Size([256, 784])\n",
      "shape of p.grad.data ** 2 torch.Size([256, 784])\n",
      "norm of the matrix 1.626071571081411e-05\n"
     ]
    }
   ],
   "source": [
    "for n, p in ewc.params.items():\n",
    "    print(\"name of this layer's weights:\", n)\n",
    "    print(\"shape of p.grad.data\", p.grad.data.shape)\n",
    "    print(\"shape of p.grad.data ** 2\", (p.grad.data ** 2).shape)\n",
    "    precision_matrices[n].data += p.grad.data ** 2 / len(ewc.dataset)\n",
    "    #print(precision_matrices[n])\n",
    "    print(\"norm of the matrix\",torch.norm(precision_matrices[n]).item())\n",
    "    break"
   ]
  },
  {
   "cell_type": "code",
   "execution_count": 22,
   "metadata": {},
   "outputs": [
    {
     "data": {
      "text/plain": [
       "tensor(0., device='cuda:0', grad_fn=<AddBackward0>)"
      ]
     },
     "execution_count": 22,
     "metadata": {},
     "output_type": "execute_result"
    }
   ],
   "source": [
    "# since the parameters have not changed yet, we expect (𝜃 - 𝜃∗)2 to be zero throughout\n",
    "ewc.penalty(model)\n"
   ]
  },
  {
   "cell_type": "code",
   "execution_count": 23,
   "metadata": {},
   "outputs": [
    {
     "name": "stdout",
     "output_type": "stream",
     "text": [
      "accuracy on mnist test set 0.8507999777793884\n"
     ]
    }
   ],
   "source": [
    "# verify that the model you are about to retrain is indeed pretrained\n",
    "acc = test(model,test_loader_mnist)\n",
    "print(\"accuracy on mnist test set\", acc.item())\n"
   ]
  },
  {
   "cell_type": "code",
   "execution_count": 24,
   "metadata": {},
   "outputs": [],
   "source": [
    "def one_epoch_ewc(\n",
    "    ewc: EWC, \n",
    "    importance: float,\n",
    "    model: nn.Module, \n",
    "    data_loader: torch.utils.data.DataLoader, \n",
    "    lr = 1e-3,\n",
    "):\n",
    "    model.train()\n",
    "    epoch_loss = 0\n",
    "    optimizer = optim.SGD(params=model.parameters(), lr=lr)\n",
    "    for input, target in data_loader:\n",
    "        # no need for the channel dim\n",
    "        # bs,1,h,w -> bs,h,w\n",
    "        input = input.squeeze(1) \n",
    "        input, target = var2device(input), var2device(target)\n",
    "        optimizer.zero_grad()\n",
    "        output = model(input)\n",
    "        loss = F.cross_entropy(output, target) + importance * ewc.penalty(model)\n",
    "        epoch_loss += loss.item()\n",
    "        loss.backward()\n",
    "        optimizer.step()\n",
    "    return epoch_loss / len(data_loader)\n",
    "\n",
    "def ewc_training(\n",
    "    ewc,\n",
    "    importance,\n",
    "    model, \n",
    "    epochs, \n",
    "    train_loader,\n",
    "    test_loader,\n",
    "    test2_loader = None,\n",
    "    use_cuda=True, \n",
    "):\n",
    "    \n",
    "    \"\"\"\n",
    "    This function saves the training curve data consisting\n",
    "    training set loss and validation set accuracy over the\n",
    "    course of the epochs of training.\n",
    "    \n",
    "    I set this up such that if you provide 2 test sets,you\n",
    "    can watch the test accuracy change together during training\n",
    "    on train_loder\n",
    "    \"\"\"\n",
    "    \n",
    "    if torch.cuda.is_available() and use_cuda:\n",
    "        model.cuda()\n",
    "        \n",
    "    train_loss, val_acc, val2_acc = [], [], []\n",
    "    \n",
    "    for epoch in tqdm(range(epochs)):\n",
    "\n",
    "        epoch_loss = one_epoch_ewc(ewc,importance, model,train_loader)\n",
    "        train_loss.append(epoch_loss)\n",
    "        \n",
    "        acc = test(model,test_loader)\n",
    "        val_acc.append(acc.detach().cpu().numpy())\n",
    "        \n",
    "        if test2_loader is not None:\n",
    "            acc2 = test(model,test2_loader)\n",
    "            val2_acc.append(acc2.detach().cpu().numpy())\n",
    "            \n",
    "    return train_loss, val_acc, val2_acc, model "
   ]
  },
  {
   "cell_type": "code",
   "execution_count": 25,
   "metadata": {},
   "outputs": [
    {
     "data": {
      "application/vnd.jupyter.widget-view+json": {
       "model_id": "d0a1e5caca684db196c36a26e109f6bc",
       "version_major": 2,
       "version_minor": 0
      },
      "text/plain": [
       "  0%|          | 0/25 [00:00<?, ?it/s]"
      ]
     },
     "metadata": {},
     "output_type": "display_data"
    }
   ],
   "source": [
    "torch.manual_seed(0)\n",
    "np.random.seed(0)\n",
    "random.seed(0)\n",
    "\n",
    "train_loss, val_acc, val2_acc, model = ewc_training(\n",
    "    ewc = ewc,\n",
    "    importance = 1000,\n",
    "    model = model,\n",
    "    epochs = 25,\n",
    "    train_loader = train_loader_fashion,\n",
    "    test_loader = test_loader_fashion,\n",
    "    test2_loader = test_loader_mnist,\n",
    ")\n",
    "# save the trained model\n",
    "model = model.cpu()\n",
    "torch.save(model, \"files/basemodel_ewc_train_on_fashion.pth\")\n"
   ]
  },
  {
   "cell_type": "code",
   "execution_count": 26,
   "metadata": {},
   "outputs": [
    {
     "name": "stdout",
     "output_type": "stream",
     "text": [
      "mnist accuracy tensor(0.8055, device='cuda:0')\n",
      "fashion accuracy tensor(0.5402, device='cuda:0')\n"
     ]
    }
   ],
   "source": [
    "\n",
    "# you can use this to load the model instead of training it from scratch like above \n",
    "\n",
    "model = torch.load(\"files/basemodel_ewc_train_on_fashion.pth\")\n",
    "\n",
    "if torch.cuda.is_available() and use_cuda:\n",
    "    model.cuda()\n",
    "    \n",
    "# tensor(0.8238, device='cuda:0') means that the test set accuracy was 82.4%\n",
    "# compared to a baseline accuracy of 10% if the model is choosing randomly\n",
    "print('mnist accuracy', test(model,test_loader_mnist))\n",
    "print('fashion accuracy', test(model,test_loader_fashion))"
   ]
  },
  {
   "cell_type": "code",
   "execution_count": 27,
   "metadata": {},
   "outputs": [
    {
     "data": {
      "image/png": "[encoded data removed]",
      "text/plain": [
       "<Figure size 432x288 with 1 Axes>"
      ]
     },
     "metadata": {
      "needs_background": "light"
     },
     "output_type": "display_data"
    }
   ],
   "source": [
    "plt.figure()\n",
    "plt.xlabel('epochs', fontsize=25)\n",
    "plt.ylabel('validation accuracy', fontsize=25)\n",
    "plt.plot(val_acc, label='fashion')\n",
    "plt.plot(val2_acc, label='mnist')\n",
    "plt.legend()\n",
    "plt.show()\n"
   ]
  },
  {
   "cell_type": "code",
   "execution_count": null,
   "metadata": {},
   "outputs": [],
   "source": [
    "# save the trained model\n",
    "model = model.cpu()\n",
    "torch.save(model, \"files/ewcmodel.pth\")"
   ]
  },
  {
   "cell_type": "code",
   "execution_count": null,
   "metadata": {},
   "outputs": [],
   "source": []
  }
 ],
 "metadata": {
  "interpreter": {
   "hash": "7e445d87bcb4f228535bd76f2c74c5b8978a77e562ce27ff7ff7b5a5898683ad"
  },
  "kernelspec": {
   "display_name": "Python 3 (ipykernel)",
   "language": "python",
   "name": "python3"
  },
  "language_info": {
   "codemirror_mode": {
    "name": "ipython",
    "version": 3
   },
   "file_extension": ".py",
   "mimetype": "text/x-python",
   "name": "python",
   "nbconvert_exporter": "python",
   "pygments_lexer": "ipython3",
   "version": "3.7.11"
  }
 },
 "nbformat": 4,
 "nbformat_minor": 2
}
